{
 "cells": [
  {
   "cell_type": "code",
   "execution_count": 3,
   "metadata": {},
   "outputs": [
    {
     "data": {
      "text/plain": [
       "74"
      ]
     },
     "execution_count": 3,
     "metadata": {},
     "output_type": "execute_result"
    }
   ],
   "source": [
    "# Evaluate expression for example 234*6*+\n",
    "class Evaluation:\n",
    "    def __init__(self):\n",
    "        self.stack=[]\n",
    "    def isEmpty(self):\n",
    "        return self.stack==[]\n",
    "    def push(self,ele):\n",
    "        self.stack.append(ele)\n",
    "    def pop(self):\n",
    "        if not self.isEmpty():\n",
    "            return self.stack.pop()\n",
    "        else:\n",
    "            return '$'\n",
    "    def reverse(self,exp):\n",
    "        s=\"\"\n",
    "        for c in exp:\n",
    "            s=c+s\n",
    "        return s\n",
    "    def evaluatePrefix(self,exp):\n",
    "        for c in self.reverse(exp):\n",
    "            if c.isdigit():\n",
    "                self.push(c)\n",
    "            else:\n",
    "                a=self.pop()\n",
    "                b=self.pop()\n",
    "                self.push(str(eval(b+c+a)))\n",
    "        return int(self.pop())\n",
    "\n",
    "e=Evaluation()\n",
    "e.evaluatePrefix('+2**346')\n",
    "        \n",
    "        \n",
    "    "
   ]
  },
  {
   "cell_type": "code",
   "execution_count": null,
   "metadata": {},
   "outputs": [],
   "source": []
  }
 ],
 "metadata": {
  "kernelspec": {
   "display_name": "Python 3",
   "language": "python",
   "name": "python3"
  },
  "language_info": {
   "codemirror_mode": {
    "name": "ipython",
    "version": 3
   },
   "file_extension": ".py",
   "mimetype": "text/x-python",
   "name": "python",
   "nbconvert_exporter": "python",
   "pygments_lexer": "ipython3",
   "version": "3.7.4"
  }
 },
 "nbformat": 4,
 "nbformat_minor": 2
}
