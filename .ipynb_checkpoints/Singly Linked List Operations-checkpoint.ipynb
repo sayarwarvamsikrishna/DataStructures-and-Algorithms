{
 "cells": [
  {
   "cell_type": "code",
   "execution_count": 10,
   "metadata": {},
   "outputs": [
    {
     "name": "stdout",
     "output_type": "stream",
     "text": [
      "1000\n",
      "114\n",
      "100\n",
      "10\n",
      "9\n",
      "12\n",
      "1\n",
      "11\n"
     ]
    }
   ],
   "source": [
    "# SLL Operations\n",
    "\n",
    "class SingleNode:\n",
    "    def __init__(self, info , next=None):\n",
    "        self.info=info\n",
    "        self.next=next\n",
    "        \n",
    "class SingleLinkedList:\n",
    "    def __init__(self):\n",
    "        self.head=None\n",
    "    def s_insert_at_begining(self, ele):\n",
    "        newNode=SingleNode(ele)\n",
    "        if self.head==None:\n",
    "            self.head=newNode\n",
    "        else:\n",
    "            newNode.next=self.head\n",
    "            self.head=newNode\n",
    "    def s_insert_at_end(self, ele):\n",
    "        newNode=SingleNode(ele)\n",
    "        if self.head==None:\n",
    "            self.head=newNode\n",
    "        else:\n",
    "            pointer=self.head\n",
    "            while(pointer.next!=None):\n",
    "                pointer=pointer.next\n",
    "            pointer.next=newNode\n",
    "            \n",
    "    def s_insert_before_certain_element(self,ele, searchele):\n",
    "        newNode=SingleNode(ele)\n",
    "        if self.head==None:\n",
    "            self.head=newNode\n",
    "        else:\n",
    "            pointer=self.head\n",
    "            while(pointer.next.info != searchele):\n",
    "                pointer=pointer.next\n",
    "            newNode.next=pointer.next\n",
    "            pointer.next=newNode\n",
    "    \n",
    "    def s_display(self):\n",
    "        if self.head==None:\n",
    "            print(\"Single linked list is empty\")\n",
    "        else:\n",
    "            pointer=self.head\n",
    "            while(pointer!=None):\n",
    "                print(pointer.info)\n",
    "                pointer=pointer.next\n",
    "        \n",
    "sll=SingleLinkedList()\n",
    "sll.s_insert_at_begining(10)\n",
    "sll.s_insert_at_begining(100)\n",
    "sll.s_insert_at_begining(1000)\n",
    "sll.s_insert_at_end(9)\n",
    "sll.s_insert_at_end(1)\n",
    "sll.s_insert_at_end(11)\n",
    "sll.s_insert_before_certain_element(12,1)\n",
    "sll.s_insert_before_certain_element(114,100)\n",
    "sll.s_display()\n",
    "        "
   ]
  },
  {
   "cell_type": "code",
   "execution_count": null,
   "metadata": {},
   "outputs": [],
   "source": []
  }
 ],
 "metadata": {
  "kernelspec": {
   "display_name": "Python 3",
   "language": "python",
   "name": "python3"
  },
  "language_info": {
   "codemirror_mode": {
    "name": "ipython",
    "version": 3
   },
   "file_extension": ".py",
   "mimetype": "text/x-python",
   "name": "python",
   "nbconvert_exporter": "python",
   "pygments_lexer": "ipython3",
   "version": "3.6.10"
  }
 },
 "nbformat": 4,
 "nbformat_minor": 4
}
