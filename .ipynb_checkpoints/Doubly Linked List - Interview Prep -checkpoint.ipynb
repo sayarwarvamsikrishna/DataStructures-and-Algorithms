{
 "cells": [
  {
   "cell_type": "code",
   "execution_count": 14,
   "metadata": {},
   "outputs": [
    {
     "name": "stdout",
     "output_type": "stream",
     "text": [
      "1000\n",
      "100\n",
      "10\n",
      "1000\n",
      "100\n",
      "10\n"
     ]
    }
   ],
   "source": [
    "#DLL Operations\n",
    "\n",
    "class Node:\n",
    "    \n",
    "    def __init__(self, info , prev=None, next=None):\n",
    "        self.info=info\n",
    "        self.prev=prev\n",
    "        self.next=next\n",
    "\n",
    "class LinkedList:\n",
    "    def __init__(self):\n",
    "        self.head=None\n",
    "    def insert_at_begining(self,ele):\n",
    "        newNode=Node(ele)\n",
    "        if self.head == None:\n",
    "            self.head=newNode\n",
    "        else:\n",
    "            newNode.next=self.head\n",
    "            self.head.prev=newNode\n",
    "            self.head=newNode\n",
    "    def insert_at_end(self,ele):\n",
    "        newNode=Node(ele)\n",
    "        if self.head == None:\n",
    "            self.head=newNode\n",
    "        else:\n",
    "            current=self.head\n",
    "            while (current.next != None):\n",
    "                current=current.next\n",
    "            current.next=newNode\n",
    "            newNode.prev=current\n",
    "    def display(self):\n",
    "        if self.head == None:\n",
    "            print(\"List is empty\")\n",
    "        else:\n",
    "            current=self.head\n",
    "            while(current!=None):\n",
    "                print(current.info)\n",
    "                current=current.next\n",
    "\n",
    "ll=LinkedList()\n",
    "ll.insert_at_begining(10)\n",
    "ll.insert_at_begining(100)\n",
    "ll.insert_at_begining(1000)\n",
    "ll.insert_at_end(1000)\n",
    "ll.insert_at_end(100)\n",
    "ll.insert_at_end(10)\n",
    "ll.display()\n",
    "\n",
    "            \n",
    "    "
   ]
  },
  {
   "cell_type": "code",
   "execution_count": null,
   "metadata": {},
   "outputs": [],
   "source": []
  }
 ],
 "metadata": {
  "kernelspec": {
   "display_name": "Python 3",
   "language": "python",
   "name": "python3"
  },
  "language_info": {
   "codemirror_mode": {
    "name": "ipython",
    "version": 3
   },
   "file_extension": ".py",
   "mimetype": "text/x-python",
   "name": "python",
   "nbconvert_exporter": "python",
   "pygments_lexer": "ipython3",
   "version": "3.6.10"
  }
 },
 "nbformat": 4,
 "nbformat_minor": 4
}
