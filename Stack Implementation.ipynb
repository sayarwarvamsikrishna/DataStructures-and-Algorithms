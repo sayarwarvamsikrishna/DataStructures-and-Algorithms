{
 "cells": [
  {
   "cell_type": "code",
   "execution_count": 1,
   "metadata": {},
   "outputs": [
    {
     "name": "stdout",
     "output_type": "stream",
     "text": [
      "push\n",
      "pop\n",
      "peek\n",
      "What exactly you want to do ?push\n",
      "enter element to insert into stack10\n",
      "push\n",
      "pop\n",
      "peek\n",
      "What exactly you want to do ?peek\n",
      "the top of the stack element is = 10\n",
      "push\n",
      "pop\n",
      "peek\n",
      "What exactly you want to do ?pop\n",
      "Deleted element from stack is =10\n",
      "push\n",
      "pop\n",
      "peek\n",
      "What exactly you want to do ?pop\n",
      "stack is empty\n",
      "push\n",
      "pop\n",
      "peek\n",
      "What exactly you want to do ?peek\n",
      "stack is empty\n",
      "push\n",
      "pop\n",
      "peek\n",
      "What exactly you want to do ?push\n",
      "enter element to insert into stack20\n",
      "push\n",
      "pop\n",
      "peek\n",
      "What exactly you want to do ?peek\n",
      "the top of the stack element is = 20\n",
      "push\n",
      "pop\n",
      "peek\n",
      "What exactly you want to do ?quit\n"
     ]
    }
   ],
   "source": [
    "#Push , Pop , Peek , check if stack is empty or not \n",
    "## Operations Performed on Stack Using List DataStructure\n",
    "class Stack:\n",
    "    def __init__(self):\n",
    "        self.stack=[]\n",
    "    def isEmpty(self):\n",
    "        return self.stack==[]\n",
    "    def push(self,ele):\n",
    "        self.stack.append(ele)\n",
    "    def pop(self):\n",
    "        if not self.isEmpty():\n",
    "            return self.stack.pop()\n",
    "        else:\n",
    "            return -1\n",
    "    def peek(self):\n",
    "        if not self.isEmpty():\n",
    "            return self.stack[-1]\n",
    "        else:\n",
    "            return -1\n",
    "s = Stack()\n",
    "\n",
    "while True:\n",
    "    print(\"push\")\n",
    "    print(\"pop\")\n",
    "    print(\"peek\")\n",
    "    do = input(\"What exactly you want to do ?\")\n",
    "    if do == 'push':\n",
    "        ele=int(input(\"enter element to insert into stack\"))\n",
    "        s.push(ele)\n",
    "    elif do=='pop':\n",
    "        ele=s.pop()\n",
    "        if ele ==-1:\n",
    "            print(\"stack is empty\")\n",
    "        else:\n",
    "            print(\"Deleted element from stack is ={0}\".format(ele))\n",
    "    elif do == 'peek':\n",
    "        ele=s.peek()\n",
    "        if ele==-1:\n",
    "            print(\"stack is empty\")\n",
    "        else:\n",
    "            print(\"the top of the stack element is = {0}\".format(ele))\n",
    "    else:\n",
    "        break"
   ]
  },
  {
   "cell_type": "code",
   "execution_count": null,
   "metadata": {},
   "outputs": [],
   "source": []
  }
 ],
 "metadata": {
  "kernelspec": {
   "display_name": "Python 3",
   "language": "python",
   "name": "python3"
  },
  "language_info": {
   "codemirror_mode": {
    "name": "ipython",
    "version": 3
   },
   "file_extension": ".py",
   "mimetype": "text/x-python",
   "name": "python",
   "nbconvert_exporter": "python",
   "pygments_lexer": "ipython3",
   "version": "3.6.10"
  }
 },
 "nbformat": 4,
 "nbformat_minor": 4
}
