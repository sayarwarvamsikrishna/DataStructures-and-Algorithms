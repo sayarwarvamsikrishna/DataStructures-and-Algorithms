{
 "cells": [
  {
   "cell_type": "code",
   "execution_count": 7,
   "metadata": {},
   "outputs": [
    {
     "name": "stdout",
     "output_type": "stream",
     "text": [
      "Enter expression{({({({})})})}\n",
      "Given Expression is balanced\n"
     ]
    }
   ],
   "source": [
    "##Stack Application Parathesis Check\n",
    "\n",
    "class Paranthesis:\n",
    "    def __init__(self):\n",
    "        self.stack=[]\n",
    "    def check(self,exp):\n",
    "        for i in range(len(exp)):\n",
    "            if exp[i]=='(' or exp[i]==\"[\" \\\n",
    "            or exp[i]==\"{\":\n",
    "                self.stack.append(exp[i])\n",
    "                continue\n",
    "                \n",
    "            if len(self.stack)==0:\n",
    "                return False\n",
    "            if exp[i]==\")\":\n",
    "                char=self.stack.pop()\n",
    "                if char!='(':\n",
    "                    False\n",
    "            if exp[i]=='}':\n",
    "                char=self.stack.pop()\n",
    "                if char != '{':\n",
    "                    return False\n",
    "            if exp[i]==']':\n",
    "                char=self.stack.pop()\n",
    "                if char!='[':\n",
    "                    return False\n",
    "        if len(self.stack):\n",
    "            return False\n",
    "        else:\n",
    "            return True\n",
    "p=Paranthesis()\n",
    "\n",
    "expr=input(\"Enter expression\")\n",
    "if p.check(expr):\n",
    "    print(\"Given Expression is balanced\")\n",
    "else:\n",
    "    print(\"Given expression is not balanced\")\n",
    "                \n",
    "    "
   ]
  },
  {
   "cell_type": "code",
   "execution_count": null,
   "metadata": {},
   "outputs": [],
   "source": []
  }
 ],
 "metadata": {
  "kernelspec": {
   "display_name": "Python 3",
   "language": "python",
   "name": "python3"
  },
  "language_info": {
   "codemirror_mode": {
    "name": "ipython",
    "version": 3
   },
   "file_extension": ".py",
   "mimetype": "text/x-python",
   "name": "python",
   "nbconvert_exporter": "python",
   "pygments_lexer": "ipython3",
   "version": "3.6.10"
  }
 },
 "nbformat": 4,
 "nbformat_minor": 4
}
